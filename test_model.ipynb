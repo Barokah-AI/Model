{
 "cells": [
  {
   "cell_type": "code",
   "execution_count": 1,
   "metadata": {},
   "outputs": [
    {
     "name": "stderr",
     "output_type": "stream",
     "text": [
      "c:\\Users\\ASUS\\AppData\\Local\\Programs\\Python\\Python310\\lib\\site-packages\\tqdm\\auto.py:21: TqdmWarning: IProgress not found. Please update jupyter and ipywidgets. See https://ipywidgets.readthedocs.io/en/stable/user_install.html\n",
      "  from .autonotebook import tqdm as notebook_tqdm\n"
     ]
    }
   ],
   "source": [
    "# import library transformers\n",
    "from transformers import BertTokenizer, BertForSequenceClassification\n",
    "# import matplotlib\n",
    "import matplotlib.pyplot as plt\n",
    "# import sklearn\n",
    "from sklearn.metrics import confusion_matrix\n",
    "# import seaborn\n",
    "import seaborn as sns\n",
    "\n",
    "# import torch\n",
    "import torch\n",
    "\n",
    "# import safetensors\n",
    "from safetensors.torch import load_file\n",
    "# import pandas\n",
    "import pandas as pd\n",
    "import os\n",
    "from tqdm import tqdm \n",
    "\n",
    "# pilih versi model\n",
    "versi_model = 13\n",
    "# inmport dataset\n",
    "df = pd.read_csv(\"dataset/barokah-1.csv\", sep=\"|\")"
   ]
  },
  {
   "cell_type": "code",
   "execution_count": 2,
   "metadata": {},
   "outputs": [],
   "source": [
    "# Encode labels to integers\n",
    "df['label'] = df['answer'].astype('category').cat.codes\n",
    "# Create a dictionary to map labels to their integer values\n",
    "label_dict = dict(enumerate(df['answer'].astype('category').cat.categories))\n",
    "\n",
    "# Load the model and tokenizer\n",
    "tokenizer = BertTokenizer.from_pretrained(\"./models/model v\"+str(versi_model))\n",
    "# Load the model\n",
    "model = BertForSequenceClassification.from_pretrained(\n",
    "    \"./models/model v\"+str(versi_model))\n",
    "\n",
    "# create function to get answer\n",
    "def get_answer(question):\n",
    "    inputs = tokenizer(question, return_tensors=\"pt\")\n",
    "    outputs = model(**inputs)\n",
    "    answer = torch.argmax(outputs.logits).item()\n",
    "    return label_dict[answer]\n",
    "    # return outputs"
   ]
  },
  {
   "cell_type": "code",
   "execution_count": 3,
   "metadata": {},
   "outputs": [
    {
     "data": {
      "text/html": [
       "<div>\n",
       "<style scoped>\n",
       "    .dataframe tbody tr th:only-of-type {\n",
       "        vertical-align: middle;\n",
       "    }\n",
       "\n",
       "    .dataframe tbody tr th {\n",
       "        vertical-align: top;\n",
       "    }\n",
       "\n",
       "    .dataframe thead th {\n",
       "        text-align: right;\n",
       "    }\n",
       "</style>\n",
       "<table border=\"1\" class=\"dataframe\">\n",
       "  <thead>\n",
       "    <tr style=\"text-align: right;\">\n",
       "      <th></th>\n",
       "      <th>question</th>\n",
       "      <th>answer</th>\n",
       "      <th>label</th>\n",
       "    </tr>\n",
       "  </thead>\n",
       "  <tbody>\n",
       "    <tr>\n",
       "      <th>0</th>\n",
       "      <td>pembayaran online</td>\n",
       "      <td>Pembayaran online saat ini dapat dilakukan mel...</td>\n",
       "      <td>4767</td>\n",
       "    </tr>\n",
       "    <tr>\n",
       "      <th>1</th>\n",
       "      <td>pengiriman barang</td>\n",
       "      <td>Pengiriman barang kini dapat dilacak secara re...</td>\n",
       "      <td>4873</td>\n",
       "    </tr>\n",
       "    <tr>\n",
       "      <th>2</th>\n",
       "      <td>sistem keamanan rumah</td>\n",
       "      <td>Sistem keamanan rumah modern menggunakan tekno...</td>\n",
       "      <td>6085</td>\n",
       "    </tr>\n",
       "    <tr>\n",
       "      <th>3</th>\n",
       "      <td>e-learning</td>\n",
       "      <td>E-learning memungkinkan siswa untuk mengakses ...</td>\n",
       "      <td>1957</td>\n",
       "    </tr>\n",
       "    <tr>\n",
       "      <th>4</th>\n",
       "      <td>perpustakaan digital</td>\n",
       "      <td>Perpustakaan digital menyediakan akses ke ribu...</td>\n",
       "      <td>5087</td>\n",
       "    </tr>\n",
       "  </tbody>\n",
       "</table>\n",
       "</div>"
      ],
      "text/plain": [
       "                question                                             answer  \\\n",
       "0      pembayaran online  Pembayaran online saat ini dapat dilakukan mel...   \n",
       "1      pengiriman barang  Pengiriman barang kini dapat dilacak secara re...   \n",
       "2  sistem keamanan rumah  Sistem keamanan rumah modern menggunakan tekno...   \n",
       "3             e-learning  E-learning memungkinkan siswa untuk mengakses ...   \n",
       "4   perpustakaan digital  Perpustakaan digital menyediakan akses ke ribu...   \n",
       "\n",
       "   label  \n",
       "0   4767  \n",
       "1   4873  \n",
       "2   6085  \n",
       "3   1957  \n",
       "4   5087  "
      ]
     },
     "execution_count": 3,
     "metadata": {},
     "output_type": "execute_result"
    }
   ],
   "source": [
    "df.head()"
   ]
  },
  {
   "cell_type": "code",
   "execution_count": 4,
   "metadata": {},
   "outputs": [
    {
     "name": "stderr",
     "output_type": "stream",
     "text": [
      "100%|██████████| 8000/8000 [04:24<00:00, 30.24it/s]\n"
     ]
    }
   ],
   "source": [
    "# List untuk menampung hasil prediksi\n",
    "predicted_labels = []\n",
    "\n",
    "# Iterasi pada setiap baris data\n",
    "for index, row in tqdm(df.iterrows(), total=len(df)):\n",
    "    text = row['question']\n",
    "    predicted_label = get_answer(text)\n",
    "    predicted_labels.append(predicted_label)\n",
    "\n",
    "# Menambahkan hasil prediksi ke dataframe baru\n",
    "df['Predicted_Label'] = predicted_labels"
   ]
  },
  {
   "cell_type": "code",
   "execution_count": 5,
   "metadata": {},
   "outputs": [
    {
     "data": {
      "text/html": [
       "<div>\n",
       "<style scoped>\n",
       "    .dataframe tbody tr th:only-of-type {\n",
       "        vertical-align: middle;\n",
       "    }\n",
       "\n",
       "    .dataframe tbody tr th {\n",
       "        vertical-align: top;\n",
       "    }\n",
       "\n",
       "    .dataframe thead th {\n",
       "        text-align: right;\n",
       "    }\n",
       "</style>\n",
       "<table border=\"1\" class=\"dataframe\">\n",
       "  <thead>\n",
       "    <tr style=\"text-align: right;\">\n",
       "      <th></th>\n",
       "      <th>question</th>\n",
       "      <th>answer</th>\n",
       "      <th>label</th>\n",
       "      <th>Predicted_Label</th>\n",
       "    </tr>\n",
       "  </thead>\n",
       "  <tbody>\n",
       "    <tr>\n",
       "      <th>0</th>\n",
       "      <td>pembayaran online</td>\n",
       "      <td>Pembayaran online saat ini dapat dilakukan mel...</td>\n",
       "      <td>4767</td>\n",
       "      <td>Pembayaran online saat ini dapat dilakukan mel...</td>\n",
       "    </tr>\n",
       "    <tr>\n",
       "      <th>1</th>\n",
       "      <td>pengiriman barang</td>\n",
       "      <td>Pengiriman barang kini dapat dilacak secara re...</td>\n",
       "      <td>4873</td>\n",
       "      <td>Pengiriman barang kini dapat dilacak secara re...</td>\n",
       "    </tr>\n",
       "    <tr>\n",
       "      <th>2</th>\n",
       "      <td>sistem keamanan rumah</td>\n",
       "      <td>Sistem keamanan rumah modern menggunakan tekno...</td>\n",
       "      <td>6085</td>\n",
       "      <td>Sistem keamanan rumah modern menggunakan tekno...</td>\n",
       "    </tr>\n",
       "    <tr>\n",
       "      <th>3</th>\n",
       "      <td>e-learning</td>\n",
       "      <td>E-learning memungkinkan siswa untuk mengakses ...</td>\n",
       "      <td>1957</td>\n",
       "      <td>E-learning memungkinkan siswa untuk mengakses ...</td>\n",
       "    </tr>\n",
       "    <tr>\n",
       "      <th>4</th>\n",
       "      <td>perpustakaan digital</td>\n",
       "      <td>Perpustakaan digital menyediakan akses ke ribu...</td>\n",
       "      <td>5087</td>\n",
       "      <td>Perpustakaan digital menyediakan akses ke ribu...</td>\n",
       "    </tr>\n",
       "  </tbody>\n",
       "</table>\n",
       "</div>"
      ],
      "text/plain": [
       "                question                                             answer  \\\n",
       "0      pembayaran online  Pembayaran online saat ini dapat dilakukan mel...   \n",
       "1      pengiriman barang  Pengiriman barang kini dapat dilacak secara re...   \n",
       "2  sistem keamanan rumah  Sistem keamanan rumah modern menggunakan tekno...   \n",
       "3             e-learning  E-learning memungkinkan siswa untuk mengakses ...   \n",
       "4   perpustakaan digital  Perpustakaan digital menyediakan akses ke ribu...   \n",
       "\n",
       "   label                                    Predicted_Label  \n",
       "0   4767  Pembayaran online saat ini dapat dilakukan mel...  \n",
       "1   4873  Pengiriman barang kini dapat dilacak secara re...  \n",
       "2   6085  Sistem keamanan rumah modern menggunakan tekno...  \n",
       "3   1957  E-learning memungkinkan siswa untuk mengakses ...  \n",
       "4   5087  Perpustakaan digital menyediakan akses ke ribu...  "
      ]
     },
     "execution_count": 5,
     "metadata": {},
     "output_type": "execute_result"
    }
   ],
   "source": [
    "df.head()"
   ]
  },
  {
   "cell_type": "code",
   "execution_count": 6,
   "metadata": {},
   "outputs": [
    {
     "name": "stdout",
     "output_type": "stream",
     "text": [
      "Correct predictions: 7234/8000\n",
      "Accuracy: 90.42%\n"
     ]
    }
   ],
   "source": [
    "# Hitung akurasi\n",
    "correct_predictions = (df['Predicted_Label'] == df['answer']).sum()\n",
    "total_predictions = len(df)\n",
    "accuracy = correct_predictions / total_predictions * 100\n",
    "print(f'Correct predictions: {correct_predictions}/{total_predictions}')\n",
    "print(f'Accuracy: {accuracy:.2f}%')"
   ]
  }
 ],
 "metadata": {
  "kernelspec": {
   "display_name": "Python 3",
   "language": "python",
   "name": "python3"
  },
  "language_info": {
   "codemirror_mode": {
    "name": "ipython",
    "version": 3
   },
   "file_extension": ".py",
   "mimetype": "text/x-python",
   "name": "python",
   "nbconvert_exporter": "python",
   "pygments_lexer": "ipython3",
   "version": "3.10.6"
  }
 },
 "nbformat": 4,
 "nbformat_minor": 2
}
