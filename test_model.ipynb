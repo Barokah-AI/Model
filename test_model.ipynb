{
 "cells": [
  {
   "cell_type": "code",
   "execution_count": 3,
   "metadata": {},
   "outputs": [],
   "source": [
    "from transformers import BertTokenizer, BertForSequenceClassification\n",
    "import matplotlib.pyplot as plt\n",
    "from sklearn.metrics import confusion_matrix\n",
    "import seaborn as sns\n",
    "\n",
    "import torch\n",
    "from safetensors.torch import load_file\n",
    "import pandas as pd\n",
    "import os\n",
    "from tqdm import tqdm \n",
    "\n",
    "versi_model = 12\n",
    "\n",
    "df = pd.read_csv(\"dataset/barokah.csv\", sep=\"|\")"
   ]
  },
  {
   "cell_type": "code",
   "execution_count": 11,
   "metadata": {},
   "outputs": [],
   "source": [
    "# Encode labels\n",
    "df['label'] = df['answer'].astype('category').cat.codes\n",
    "label_dict = dict(enumerate(df['answer'].astype('category').cat.categories))\n",
    "\n",
    "\n",
    "tokenizer = BertTokenizer.from_pretrained(\"./models/model v\"+str(versi_model))\n",
    "model = BertForSequenceClassification.from_pretrained(\"./models/model v\"+str(versi_model))\n",
    "\n",
    "\n",
    "def get_answer(question):\n",
    "    inputs = tokenizer(question, return_tensors=\"pt\")\n",
    "    outputs = model(**inputs)\n",
    "    answer = torch.argmax(outputs.logits).item()\n",
    "    return label_dict[answer]\n",
    "    # return outputs"
   ]
  },
  {
   "cell_type": "code",
   "execution_count": 8,
   "metadata": {},
   "outputs": [
    {
     "data": {
      "text/html": [
       "<div>\n",
       "<style scoped>\n",
       "    .dataframe tbody tr th:only-of-type {\n",
       "        vertical-align: middle;\n",
       "    }\n",
       "\n",
       "    .dataframe tbody tr th {\n",
       "        vertical-align: top;\n",
       "    }\n",
       "\n",
       "    .dataframe thead th {\n",
       "        text-align: right;\n",
       "    }\n",
       "</style>\n",
       "<table border=\"1\" class=\"dataframe\">\n",
       "  <thead>\n",
       "    <tr style=\"text-align: right;\">\n",
       "      <th></th>\n",
       "      <th>question</th>\n",
       "      <th>answer</th>\n",
       "      <th>label</th>\n",
       "    </tr>\n",
       "  </thead>\n",
       "  <tbody>\n",
       "    <tr>\n",
       "      <th>0</th>\n",
       "      <td>pembayaran online</td>\n",
       "      <td>Pembayaran online saat ini dapat dilakukan mel...</td>\n",
       "      <td>629</td>\n",
       "    </tr>\n",
       "    <tr>\n",
       "      <th>1</th>\n",
       "      <td>pengiriman barang</td>\n",
       "      <td>Pengiriman barang kini dapat dilacak secara re...</td>\n",
       "      <td>638</td>\n",
       "    </tr>\n",
       "    <tr>\n",
       "      <th>2</th>\n",
       "      <td>sistem keamanan rumah</td>\n",
       "      <td>Sistem keamanan rumah modern menggunakan tekno...</td>\n",
       "      <td>768</td>\n",
       "    </tr>\n",
       "    <tr>\n",
       "      <th>3</th>\n",
       "      <td>e-learning</td>\n",
       "      <td>E-learning memungkinkan siswa untuk mengakses ...</td>\n",
       "      <td>254</td>\n",
       "    </tr>\n",
       "    <tr>\n",
       "      <th>4</th>\n",
       "      <td>perpustakaan digital</td>\n",
       "      <td>Perpustakaan digital menyediakan akses ke ribu...</td>\n",
       "      <td>664</td>\n",
       "    </tr>\n",
       "  </tbody>\n",
       "</table>\n",
       "</div>"
      ],
      "text/plain": [
       "                question                                             answer  \\\n",
       "0      pembayaran online  Pembayaran online saat ini dapat dilakukan mel...   \n",
       "1      pengiriman barang  Pengiriman barang kini dapat dilacak secara re...   \n",
       "2  sistem keamanan rumah  Sistem keamanan rumah modern menggunakan tekno...   \n",
       "3             e-learning  E-learning memungkinkan siswa untuk mengakses ...   \n",
       "4   perpustakaan digital  Perpustakaan digital menyediakan akses ke ribu...   \n",
       "\n",
       "   label  \n",
       "0    629  \n",
       "1    638  \n",
       "2    768  \n",
       "3    254  \n",
       "4    664  "
      ]
     },
     "execution_count": 8,
     "metadata": {},
     "output_type": "execute_result"
    }
   ],
   "source": [
    "df.head()"
   ]
  },
  {
   "cell_type": "code",
   "execution_count": 12,
   "metadata": {},
   "outputs": [
    {
     "name": "stderr",
     "output_type": "stream",
     "text": [
      "100%|██████████| 5000/5000 [02:57<00:00, 28.23it/s]\n"
     ]
    }
   ],
   "source": [
    "# List untuk menampung hasil prediksi\n",
    "predicted_labels = []\n",
    "\n",
    "# Iterasi pada setiap baris data\n",
    "for index, row in tqdm(df.iterrows(), total=len(df)):\n",
    "    text = row['question']\n",
    "    predicted_label = get_answer(text)\n",
    "    predicted_labels.append(predicted_label)\n",
    "\n",
    "# Menambahkan hasil prediksi ke dataframe baru\n",
    "df['Predicted_Label'] = predicted_labels"
   ]
  },
  {
   "cell_type": "code",
   "execution_count": 13,
   "metadata": {},
   "outputs": [
    {
     "data": {
      "text/html": [
       "<div>\n",
       "<style scoped>\n",
       "    .dataframe tbody tr th:only-of-type {\n",
       "        vertical-align: middle;\n",
       "    }\n",
       "\n",
       "    .dataframe tbody tr th {\n",
       "        vertical-align: top;\n",
       "    }\n",
       "\n",
       "    .dataframe thead th {\n",
       "        text-align: right;\n",
       "    }\n",
       "</style>\n",
       "<table border=\"1\" class=\"dataframe\">\n",
       "  <thead>\n",
       "    <tr style=\"text-align: right;\">\n",
       "      <th></th>\n",
       "      <th>question</th>\n",
       "      <th>answer</th>\n",
       "      <th>label</th>\n",
       "      <th>Predicted_Label</th>\n",
       "    </tr>\n",
       "  </thead>\n",
       "  <tbody>\n",
       "    <tr>\n",
       "      <th>0</th>\n",
       "      <td>pembayaran online</td>\n",
       "      <td>Pembayaran online saat ini dapat dilakukan mel...</td>\n",
       "      <td>629</td>\n",
       "      <td>Pembayaran online saat ini dapat dilakukan mel...</td>\n",
       "    </tr>\n",
       "    <tr>\n",
       "      <th>1</th>\n",
       "      <td>pengiriman barang</td>\n",
       "      <td>Pengiriman barang kini dapat dilacak secara re...</td>\n",
       "      <td>638</td>\n",
       "      <td>Pengiriman barang kini dapat dilacak secara re...</td>\n",
       "    </tr>\n",
       "    <tr>\n",
       "      <th>2</th>\n",
       "      <td>sistem keamanan rumah</td>\n",
       "      <td>Sistem keamanan rumah modern menggunakan tekno...</td>\n",
       "      <td>768</td>\n",
       "      <td>Sistem keamanan rumah modern menggunakan tekno...</td>\n",
       "    </tr>\n",
       "    <tr>\n",
       "      <th>3</th>\n",
       "      <td>e-learning</td>\n",
       "      <td>E-learning memungkinkan siswa untuk mengakses ...</td>\n",
       "      <td>254</td>\n",
       "      <td>E-learning memungkinkan siswa untuk mengakses ...</td>\n",
       "    </tr>\n",
       "    <tr>\n",
       "      <th>4</th>\n",
       "      <td>perpustakaan digital</td>\n",
       "      <td>Perpustakaan digital menyediakan akses ke ribu...</td>\n",
       "      <td>664</td>\n",
       "      <td>Perpustakaan digital menyediakan akses ke ribu...</td>\n",
       "    </tr>\n",
       "  </tbody>\n",
       "</table>\n",
       "</div>"
      ],
      "text/plain": [
       "                question                                             answer  \\\n",
       "0      pembayaran online  Pembayaran online saat ini dapat dilakukan mel...   \n",
       "1      pengiriman barang  Pengiriman barang kini dapat dilacak secara re...   \n",
       "2  sistem keamanan rumah  Sistem keamanan rumah modern menggunakan tekno...   \n",
       "3             e-learning  E-learning memungkinkan siswa untuk mengakses ...   \n",
       "4   perpustakaan digital  Perpustakaan digital menyediakan akses ke ribu...   \n",
       "\n",
       "   label                                    Predicted_Label  \n",
       "0    629  Pembayaran online saat ini dapat dilakukan mel...  \n",
       "1    638  Pengiriman barang kini dapat dilacak secara re...  \n",
       "2    768  Sistem keamanan rumah modern menggunakan tekno...  \n",
       "3    254  E-learning memungkinkan siswa untuk mengakses ...  \n",
       "4    664  Perpustakaan digital menyediakan akses ke ribu...  "
      ]
     },
     "execution_count": 13,
     "metadata": {},
     "output_type": "execute_result"
    }
   ],
   "source": [
    "df.head()"
   ]
  },
  {
   "cell_type": "code",
   "execution_count": 15,
   "metadata": {},
   "outputs": [
    {
     "name": "stdout",
     "output_type": "stream",
     "text": [
      "Correct predictions: 4625/5000\n",
      "Accuracy: 92.50%\n"
     ]
    }
   ],
   "source": [
    "# Hitung akurasi\n",
    "correct_predictions = (df['Predicted_Label'] == df['answer']).sum()\n",
    "total_predictions = len(df)\n",
    "accuracy = correct_predictions / total_predictions * 100\n",
    "print(f'Correct predictions: {correct_predictions}/{total_predictions}')\n",
    "print(f'Accuracy: {accuracy:.2f}%')"
   ]
  }
 ],
 "metadata": {
  "kernelspec": {
   "display_name": "Python 3",
   "language": "python",
   "name": "python3"
  },
  "language_info": {
   "codemirror_mode": {
    "name": "ipython",
    "version": 3
   },
   "file_extension": ".py",
   "mimetype": "text/x-python",
   "name": "python",
   "nbconvert_exporter": "python",
   "pygments_lexer": "ipython3",
   "version": "3.10.6"
  }
 },
 "nbformat": 4,
 "nbformat_minor": 2
}
